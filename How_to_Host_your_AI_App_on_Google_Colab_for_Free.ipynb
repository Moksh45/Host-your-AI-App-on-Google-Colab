{
  "nbformat": 4,
  "nbformat_minor": 0,
  "metadata": {
    "colab": {
      "provenance": [],
      "gpuType": "T4",
      "authorship_tag": "ABX9TyNDep8wl7kUKedDg4Osyrhx",
      "include_colab_link": true
    },
    "kernelspec": {
      "name": "python3",
      "display_name": "Python 3"
    },
    "language_info": {
      "name": "python"
    },
    "accelerator": "GPU"
  },
  "cells": [
    {
      "cell_type": "markdown",
      "metadata": {
        "id": "view-in-github",
        "colab_type": "text"
      },
      "source": [
        "<a href=\"https://colab.research.google.com/github/Moksh45/Host-your-AI-App-on-Google-Colab/blob/main/How_to_Host_your_AI_App_on_Google_Colab_for_Free.ipynb\" target=\"_parent\"><img src=\"https://colab.research.google.com/assets/colab-badge.svg\" alt=\"Open In Colab\"/></a>"
      ]
    },
    {
      "cell_type": "code",
      "execution_count": 1,
      "metadata": {
        "colab": {
          "base_uri": "https://localhost:8080/"
        },
        "id": "Ve_0vkXJbIP6",
        "outputId": "e87a3b57-d256-417a-879a-00006bcf68b8"
      },
      "outputs": [
        {
          "output_type": "stream",
          "name": "stdout",
          "text": [
            "Reading package lists... Done\n",
            "Building dependency tree... Done\n",
            "Reading state information... Done\n",
            "The following additional packages will be installed:\n",
            "  libpci3 pci.ids\n",
            "The following NEW packages will be installed:\n",
            "  libpci3 pci.ids pciutils\n",
            "0 upgraded, 3 newly installed, 0 to remove and 38 not upgraded.\n",
            "Need to get 343 kB of archives.\n",
            "After this operation, 1,581 kB of additional disk space will be used.\n",
            "Get:1 http://archive.ubuntu.com/ubuntu jammy-updates/main amd64 pci.ids all 0.0~2022.01.22-1ubuntu0.1 [251 kB]\n",
            "Get:2 http://archive.ubuntu.com/ubuntu jammy/main amd64 libpci3 amd64 1:3.7.0-6 [28.9 kB]\n",
            "Get:3 http://archive.ubuntu.com/ubuntu jammy/main amd64 pciutils amd64 1:3.7.0-6 [63.6 kB]\n",
            "Fetched 343 kB in 1s (317 kB/s)\n",
            "debconf: unable to initialize frontend: Dialog\n",
            "debconf: (No usable dialog-like program is installed, so the dialog based frontend cannot be used. at /usr/share/perl5/Debconf/FrontEnd/Dialog.pm line 78, <> line 3.)\n",
            "debconf: falling back to frontend: Readline\n",
            "debconf: unable to initialize frontend: Readline\n",
            "debconf: (This frontend requires a controlling tty.)\n",
            "debconf: falling back to frontend: Teletype\n",
            "dpkg-preconfigure: unable to re-open stdin: \n",
            "Selecting previously unselected package pci.ids.\n",
            "(Reading database ... 126455 files and directories currently installed.)\n",
            "Preparing to unpack .../pci.ids_0.0~2022.01.22-1ubuntu0.1_all.deb ...\n",
            "Unpacking pci.ids (0.0~2022.01.22-1ubuntu0.1) ...\n",
            "Selecting previously unselected package libpci3:amd64.\n",
            "Preparing to unpack .../libpci3_1%3a3.7.0-6_amd64.deb ...\n",
            "Unpacking libpci3:amd64 (1:3.7.0-6) ...\n",
            "Selecting previously unselected package pciutils.\n",
            "Preparing to unpack .../pciutils_1%3a3.7.0-6_amd64.deb ...\n",
            "Unpacking pciutils (1:3.7.0-6) ...\n",
            "Setting up pci.ids (0.0~2022.01.22-1ubuntu0.1) ...\n",
            "Setting up libpci3:amd64 (1:3.7.0-6) ...\n",
            "Setting up pciutils (1:3.7.0-6) ...\n",
            "Processing triggers for man-db (2.10.2-1) ...\n",
            "Processing triggers for libc-bin (2.35-0ubuntu3.8) ...\n",
            "/sbin/ldconfig.real: /usr/local/lib/libur_loader.so.0 is not a symbolic link\n",
            "\n",
            "/sbin/ldconfig.real: /usr/local/lib/libhwloc.so.15 is not a symbolic link\n",
            "\n",
            "/sbin/ldconfig.real: /usr/local/lib/libumf.so.1 is not a symbolic link\n",
            "\n",
            "/sbin/ldconfig.real: /usr/local/lib/libtbbmalloc_proxy.so.2 is not a symbolic link\n",
            "\n",
            "/sbin/ldconfig.real: /usr/local/lib/libur_adapter_level_zero.so.0 is not a symbolic link\n",
            "\n",
            "/sbin/ldconfig.real: /usr/local/lib/libtbb.so.12 is not a symbolic link\n",
            "\n",
            "/sbin/ldconfig.real: /usr/local/lib/libtcm.so.1 is not a symbolic link\n",
            "\n",
            "/sbin/ldconfig.real: /usr/local/lib/libtbbbind.so.3 is not a symbolic link\n",
            "\n",
            "/sbin/ldconfig.real: /usr/local/lib/libtbbbind_2_5.so.3 is not a symbolic link\n",
            "\n",
            "/sbin/ldconfig.real: /usr/local/lib/libur_adapter_opencl.so.0 is not a symbolic link\n",
            "\n",
            "/sbin/ldconfig.real: /usr/local/lib/libtbbbind_2_0.so.3 is not a symbolic link\n",
            "\n",
            "/sbin/ldconfig.real: /usr/local/lib/libur_adapter_level_zero_v2.so.0 is not a symbolic link\n",
            "\n",
            "/sbin/ldconfig.real: /usr/local/lib/libtbbmalloc.so.2 is not a symbolic link\n",
            "\n",
            "/sbin/ldconfig.real: /usr/local/lib/libtcm_debug.so.1 is not a symbolic link\n",
            "\n",
            "  % Total    % Received % Xferd  Average Speed   Time    Time     Time  Current\n",
            "                                 Dload  Upload   Total   Spent    Left  Speed\n",
            "100 13281    0 13281    0     0  62606      0 --:--:-- --:--:-- --:--:-- 62646\n",
            ">>> Installing ollama to /usr/local\n",
            ">>> Downloading Linux amd64 bundle\n",
            "######################################################################## 100.0%\n",
            ">>> Creating ollama user...\n",
            ">>> Adding ollama user to video group...\n",
            ">>> Adding current user to ollama group...\n",
            ">>> Creating ollama systemd service...\n",
            "\u001b[1m\u001b[31mWARNING:\u001b[m systemd is not running\n",
            ">>> NVIDIA GPU installed.\n",
            ">>> The Ollama API is now available at 127.0.0.1:11434.\n",
            ">>> Install complete. Run \"ollama\" from the command line.\n"
          ]
        }
      ],
      "source": [
        "# Install pciutils and Ollama\n",
        "!sudo apt-get install -y pciutils\n",
        "!curl https://ollama.ai/install.sh | sh"
      ]
    },
    {
      "cell_type": "code",
      "source": [
        "# Install pinggy\n",
        "!pip install pinggy"
      ],
      "metadata": {
        "colab": {
          "base_uri": "https://localhost:8080/"
        },
        "id": "wctwI1bsgoNR",
        "outputId": "e697e364-e9b2-46d0-ca00-23fb0465011d"
      },
      "execution_count": 2,
      "outputs": [
        {
          "output_type": "stream",
          "name": "stdout",
          "text": [
            "Collecting pinggy\n",
            "  Downloading pinggy-0.0.18-cp310-abi3-manylinux_2_28_x86_64.whl.metadata (5.4 kB)\n",
            "Downloading pinggy-0.0.18-cp310-abi3-manylinux_2_28_x86_64.whl (6.2 MB)\n",
            "\u001b[2K   \u001b[90m━━━━━━━━━━━━━━━━━━━━━━━━━━━━━━━━━━━━━━━━\u001b[0m \u001b[32m6.2/6.2 MB\u001b[0m \u001b[31m16.0 MB/s\u001b[0m eta \u001b[36m0:00:00\u001b[0m\n",
            "\u001b[?25hInstalling collected packages: pinggy\n",
            "Successfully installed pinggy-0.0.18\n"
          ]
        }
      ]
    },
    {
      "cell_type": "code",
      "source": [
        "import subprocess\n",
        "import os\n",
        "\n",
        "def start_ollama_server():\n",
        "    # Use nohup to run ollama serve in the background and redirect output to a file\n",
        "    subprocess.Popen(['nohup', 'ollama', 'serve'],\n",
        "                     stdout=open('ollama.log', 'w'),\n",
        "                     stderr=open('ollama_error.log', 'w'),\n",
        "                     preexec_fn=os.setsid)\n",
        "    print(\"🚀 Ollama server launched successfully in the background!\")\n",
        "\n",
        "# Start the Ollama server in the background\n",
        "start_ollama_server()"
      ],
      "metadata": {
        "colab": {
          "base_uri": "https://localhost:8080/"
        },
        "id": "eT_Z6NYJgqs4",
        "outputId": "c151c1b5-73a6-4db2-8107-95593baae0f4"
      },
      "execution_count": 14,
      "outputs": [
        {
          "output_type": "stream",
          "name": "stdout",
          "text": [
            "🚀 Ollama server launched successfully in the background!\n"
          ]
        }
      ]
    },
    {
      "cell_type": "code",
      "source": [
        "# Check if Ollama is listening on port 11434\n",
        "def check_ollama_port(port='11434'):\n",
        "    try:\n",
        "        output = subprocess.run(['sudo', 'lsof', '-i', '-P', '-n'],\n",
        "                              capture_output=True, text=True).stdout\n",
        "        if f\":{port} (LISTEN)\" in output:\n",
        "            print(f\"✅ Ollama is actively listening on port {port}\")\n",
        "        else:\n",
        "            print(f\"⚠️ Ollama not detected on port {port}\")\n",
        "    except Exception as e:\n",
        "        print(f\"❌ Error checking port: {e}\")\n",
        "check_ollama_port()"
      ],
      "metadata": {
        "colab": {
          "base_uri": "https://localhost:8080/"
        },
        "id": "1hRenlqagts6",
        "outputId": "0f5b032c-f050-441f-b102-326bfe5e8647"
      },
      "execution_count": 9,
      "outputs": [
        {
          "output_type": "stream",
          "name": "stdout",
          "text": [
            "⚠️ Ollama not detected on port 11434\n"
          ]
        }
      ]
    },
    {
      "cell_type": "code",
      "source": [
        "import pinggy\n",
        "tunnel1 = pinggy.start_tunnel(\n",
        "    forwardto=\"localhost:8000\",\n",
        "    headermodification=[\"u:Host:localhost:5000\"]\n",
        ")\n",
        "\n",
        "\n",
        "print(f\"Tunnel1 started - URLs: {tunnel1.urls}\")"
      ],
      "metadata": {
        "colab": {
          "base_uri": "https://localhost:8080/"
        },
        "id": "aOitXwfdgv3P",
        "outputId": "9e69df2a-e2dc-42db-d8a1-44c2ce0fa932"
      },
      "execution_count": 12,
      "outputs": [
        {
          "output_type": "stream",
          "name": "stdout",
          "text": [
            "Tunnel1 started - URLs: ['http://heqng-34-125-50-135.a.free.pinggy.link', 'https://heqng-34-125-50-135.a.free.pinggy.link']\n"
          ]
        }
      ]
    },
    {
      "cell_type": "code",
      "source": [
        "#install llama model\n",
        "!ollama pull llama3.2:1b"
      ],
      "metadata": {
        "colab": {
          "base_uri": "https://localhost:8080/"
        },
        "id": "YS5fC0o9gxxU",
        "outputId": "80851d3e-f7fe-4960-cd5e-196d2d4c218c"
      },
      "execution_count": 23,
      "outputs": [
        {
          "output_type": "stream",
          "name": "stdout",
          "text": [
            "\u001b[?2026h\u001b[?25l\u001b[1G\u001b[?25h\u001b[?2026l\u001b[?2026h\u001b[?25l\u001b[1G\u001b[?25h\u001b[?2026l\u001b[?2026h\u001b[?25l\u001b[1G\u001b[?25h\u001b[?2026l\u001b[?2026h\u001b[?25l\u001b[1G\u001b[?25h\u001b[?2026l\n"
          ]
        }
      ]
    },
    {
      "cell_type": "code",
      "source": [
        "from flask import Flask, request, render_template_string\n",
        "import requests\n",
        "import json\n",
        "\n",
        "app = Flask(__name__)\n",
        "\n",
        "HTML_TEMPLATE = \"\"\"\n",
        "<!DOCTYPE html>\n",
        "<html>\n",
        "<head>\n",
        "    <title>AI Blog Writer</title>\n",
        "    <style>\n",
        "        body { font-family: Arial, sans-serif; margin: 2rem; background: #f5f5f5; }\n",
        "        .container { background: white; padding: 2rem; border-radius: 10px; max-width: 700px; margin: auto; box-shadow: 0 0 10px rgba(0,0,0,0.1); }\n",
        "        input[type=text] { width: 100%; padding: 10px; font-size: 16px; margin-bottom: 1rem; }\n",
        "        button { padding: 10px 20px; background-color: #007bff; border: none; color: white; font-size: 16px; border-radius: 5px; cursor: pointer; }\n",
        "        button:hover { background-color: #0056b3; }\n",
        "        .blog { margin-top: 2rem; white-space: pre-wrap; }\n",
        "        h1 { text-align: center; }\n",
        "    </style>\n",
        "</head>\n",
        "<body>\n",
        "    <div class=\"container\">\n",
        "        <h1>AI Blog Writer</h1>\n",
        "        <form method=\"post\">\n",
        "            <input type=\"text\" name=\"title\" placeholder=\"Enter blog title\" required value=\"{{ title or '' }}\">\n",
        "            <button type=\"submit\">Generate Blog</button>\n",
        "        </form>\n",
        "        {% if blog %}\n",
        "            <div class=\"blog\">\n",
        "                <h2>{{ title }}</h2>\n",
        "                <p>{{ blog }}</p>\n",
        "            </div>\n",
        "        {% endif %}\n",
        "    </div>\n",
        "</body>\n",
        "</html>\n",
        "\"\"\"\n",
        "\n",
        "@app.route(\"/\", methods=[\"GET\", \"POST\"])\n",
        "def index():\n",
        "    blog = None\n",
        "    title = None\n",
        "\n",
        "    if request.method == \"POST\":\n",
        "        title = request.form.get(\"title\")\n",
        "        prompt = f\"Write a detailed and engaging blog post about: '{title}'.\"\n",
        "\n",
        "        try:\n",
        "            # Call local Ollama API\n",
        "            response = requests.post(\n",
        "                \"http://localhost:11434/api/generate\",\n",
        "                json={\"model\": \"llama3.2:1b\", \"prompt\": prompt},\n",
        "                stream=True,\n",
        "                timeout=120\n",
        "            )\n",
        "\n",
        "            # Collect streaming output properly\n",
        "            blog_parts = []\n",
        "            for line in response.iter_lines():\n",
        "                if line:\n",
        "                    try:\n",
        "                        data = json.loads(line.decode(\"utf-8\"))\n",
        "                        if \"response\" in data:\n",
        "                            blog_parts.append(data[\"response\"])\n",
        "                    except json.JSONDecodeError:\n",
        "                        continue\n",
        "\n",
        "            blog = \"\".join(blog_parts).strip()\n",
        "\n",
        "        except Exception as e:\n",
        "            blog = f\"Error: Could not reach Ollama API ({e})\"\n",
        "\n",
        "    return render_template_string(HTML_TEMPLATE, blog=blog, title=title)\n",
        "\n",
        "if __name__ == \"__main__\":\n",
        "    app.run(host='0.0.0.0', port=8000)\n"
      ],
      "metadata": {
        "colab": {
          "base_uri": "https://localhost:8080/"
        },
        "id": "O8gKTdVr-ffi",
        "outputId": "ead2bafc-58a8-40f9-92b8-16ae7e9bfbe8"
      },
      "execution_count": 21,
      "outputs": [
        {
          "output_type": "stream",
          "name": "stdout",
          "text": [
            " * Serving Flask app '__main__'\n",
            " * Debug mode: off\n"
          ]
        },
        {
          "output_type": "stream",
          "name": "stderr",
          "text": [
            "INFO:werkzeug:\u001b[31m\u001b[1mWARNING: This is a development server. Do not use it in a production deployment. Use a production WSGI server instead.\u001b[0m\n",
            " * Running on all addresses (0.0.0.0)\n",
            " * Running on http://127.0.0.1:8000\n",
            " * Running on http://172.28.0.12:8000\n",
            "INFO:werkzeug:\u001b[33mPress CTRL+C to quit\u001b[0m\n",
            "INFO:werkzeug:127.0.0.1 - - [30/Oct/2025 13:15:29] \"POST / HTTP/1.1\" 200 -\n",
            "INFO:werkzeug:127.0.0.1 - - [30/Oct/2025 13:15:52] \"POST / HTTP/1.1\" 200 -\n"
          ]
        }
      ]
    }
  ]
}